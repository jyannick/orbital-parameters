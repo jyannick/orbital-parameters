{
 "cells": [
  {
   "cell_type": "code",
   "execution_count": 12,
   "metadata": {},
   "outputs": [
    {
     "output_type": "display_data",
     "data": {
      "text/html": "\n    <div class=\"bk-root\">\n        <a href=\"https://bokeh.org\" target=\"_blank\" class=\"bk-logo bk-logo-small bk-logo-notebook\"></a>\n        <span id=\"3341\">Loading BokehJS ...</span>\n    </div>"
     },
     "metadata": {}
    },
    {
     "output_type": "display_data",
     "data": {
      "application/javascript": "\n(function(root) {\n  function now() {\n    return new Date();\n  }\n\n  var force = true;\n\n  if (typeof root._bokeh_onload_callbacks === \"undefined\" || force === true) {\n    root._bokeh_onload_callbacks = [];\n    root._bokeh_is_loading = undefined;\n  }\n\n  var JS_MIME_TYPE = 'application/javascript';\n  var HTML_MIME_TYPE = 'text/html';\n  var EXEC_MIME_TYPE = 'application/vnd.bokehjs_exec.v0+json';\n  var CLASS_NAME = 'output_bokeh rendered_html';\n\n  /**\n   * Render data to the DOM node\n   */\n  function render(props, node) {\n    var script = document.createElement(\"script\");\n    node.appendChild(script);\n  }\n\n  /**\n   * Handle when an output is cleared or removed\n   */\n  function handleClearOutput(event, handle) {\n    var cell = handle.cell;\n\n    var id = cell.output_area._bokeh_element_id;\n    var server_id = cell.output_area._bokeh_server_id;\n    // Clean up Bokeh references\n    if (id != null && id in Bokeh.index) {\n      Bokeh.index[id].model.document.clear();\n      delete Bokeh.index[id];\n    }\n\n    if (server_id !== undefined) {\n      // Clean up Bokeh references\n      var cmd = \"from bokeh.io.state import curstate; print(curstate().uuid_to_server['\" + server_id + \"'].get_sessions()[0].document.roots[0]._id)\";\n      cell.notebook.kernel.execute(cmd, {\n        iopub: {\n          output: function(msg) {\n            var id = msg.content.text.trim();\n            if (id in Bokeh.index) {\n              Bokeh.index[id].model.document.clear();\n              delete Bokeh.index[id];\n            }\n          }\n        }\n      });\n      // Destroy server and session\n      var cmd = \"import bokeh.io.notebook as ion; ion.destroy_server('\" + server_id + \"')\";\n      cell.notebook.kernel.execute(cmd);\n    }\n  }\n\n  /**\n   * Handle when a new output is added\n   */\n  function handleAddOutput(event, handle) {\n    var output_area = handle.output_area;\n    var output = handle.output;\n\n    // limit handleAddOutput to display_data with EXEC_MIME_TYPE content only\n    if ((output.output_type != \"display_data\") || (!output.data.hasOwnProperty(EXEC_MIME_TYPE))) {\n      return\n    }\n\n    var toinsert = output_area.element.find(\".\" + CLASS_NAME.split(' ')[0]);\n\n    if (output.metadata[EXEC_MIME_TYPE][\"id\"] !== undefined) {\n      toinsert[toinsert.length - 1].firstChild.textContent = output.data[JS_MIME_TYPE];\n      // store reference to embed id on output_area\n      output_area._bokeh_element_id = output.metadata[EXEC_MIME_TYPE][\"id\"];\n    }\n    if (output.metadata[EXEC_MIME_TYPE][\"server_id\"] !== undefined) {\n      var bk_div = document.createElement(\"div\");\n      bk_div.innerHTML = output.data[HTML_MIME_TYPE];\n      var script_attrs = bk_div.children[0].attributes;\n      for (var i = 0; i < script_attrs.length; i++) {\n        toinsert[toinsert.length - 1].firstChild.setAttribute(script_attrs[i].name, script_attrs[i].value);\n        toinsert[toinsert.length - 1].firstChild.textContent = bk_div.children[0].textContent\n      }\n      // store reference to server id on output_area\n      output_area._bokeh_server_id = output.metadata[EXEC_MIME_TYPE][\"server_id\"];\n    }\n  }\n\n  function register_renderer(events, OutputArea) {\n\n    function append_mime(data, metadata, element) {\n      // create a DOM node to render to\n      var toinsert = this.create_output_subarea(\n        metadata,\n        CLASS_NAME,\n        EXEC_MIME_TYPE\n      );\n      this.keyboard_manager.register_events(toinsert);\n      // Render to node\n      var props = {data: data, metadata: metadata[EXEC_MIME_TYPE]};\n      render(props, toinsert[toinsert.length - 1]);\n      element.append(toinsert);\n      return toinsert\n    }\n\n    /* Handle when an output is cleared or removed */\n    events.on('clear_output.CodeCell', handleClearOutput);\n    events.on('delete.Cell', handleClearOutput);\n\n    /* Handle when a new output is added */\n    events.on('output_added.OutputArea', handleAddOutput);\n\n    /**\n     * Register the mime type and append_mime function with output_area\n     */\n    OutputArea.prototype.register_mime_type(EXEC_MIME_TYPE, append_mime, {\n      /* Is output safe? */\n      safe: true,\n      /* Index of renderer in `output_area.display_order` */\n      index: 0\n    });\n  }\n\n  // register the mime type if in Jupyter Notebook environment and previously unregistered\n  if (root.Jupyter !== undefined) {\n    var events = require('base/js/events');\n    var OutputArea = require('notebook/js/outputarea').OutputArea;\n\n    if (OutputArea.prototype.mime_types().indexOf(EXEC_MIME_TYPE) == -1) {\n      register_renderer(events, OutputArea);\n    }\n  }\n\n  \n  if (typeof (root._bokeh_timeout) === \"undefined\" || force === true) {\n    root._bokeh_timeout = Date.now() + 5000;\n    root._bokeh_failed_load = false;\n  }\n\n  var NB_LOAD_WARNING = {'data': {'text/html':\n     \"<div style='background-color: #fdd'>\\n\"+\n     \"<p>\\n\"+\n     \"BokehJS does not appear to have successfully loaded. If loading BokehJS from CDN, this \\n\"+\n     \"may be due to a slow or bad network connection. Possible fixes:\\n\"+\n     \"</p>\\n\"+\n     \"<ul>\\n\"+\n     \"<li>re-rerun `output_notebook()` to attempt to load from CDN again, or</li>\\n\"+\n     \"<li>use INLINE resources instead, as so:</li>\\n\"+\n     \"</ul>\\n\"+\n     \"<code>\\n\"+\n     \"from bokeh.resources import INLINE\\n\"+\n     \"output_notebook(resources=INLINE)\\n\"+\n     \"</code>\\n\"+\n     \"</div>\"}};\n\n  function display_loaded() {\n    var el = document.getElementById(\"3341\");\n    if (el != null) {\n      el.textContent = \"BokehJS is loading...\";\n    }\n    if (root.Bokeh !== undefined) {\n      if (el != null) {\n        el.textContent = \"BokehJS \" + root.Bokeh.version + \" successfully loaded.\";\n      }\n    } else if (Date.now() < root._bokeh_timeout) {\n      setTimeout(display_loaded, 100)\n    }\n  }\n\n\n  function run_callbacks() {\n    try {\n      root._bokeh_onload_callbacks.forEach(function(callback) {\n        if (callback != null)\n          callback();\n      });\n    } finally {\n      delete root._bokeh_onload_callbacks\n    }\n    console.debug(\"Bokeh: all callbacks have finished\");\n  }\n\n  function load_libs(css_urls, js_urls, callback) {\n    if (css_urls == null) css_urls = [];\n    if (js_urls == null) js_urls = [];\n\n    root._bokeh_onload_callbacks.push(callback);\n    if (root._bokeh_is_loading > 0) {\n      console.debug(\"Bokeh: BokehJS is being loaded, scheduling callback at\", now());\n      return null;\n    }\n    if (js_urls == null || js_urls.length === 0) {\n      run_callbacks();\n      return null;\n    }\n    console.debug(\"Bokeh: BokehJS not loaded, scheduling load and callback at\", now());\n    root._bokeh_is_loading = css_urls.length + js_urls.length;\n\n    function on_load() {\n      root._bokeh_is_loading--;\n      if (root._bokeh_is_loading === 0) {\n        console.debug(\"Bokeh: all BokehJS libraries/stylesheets loaded\");\n        run_callbacks()\n      }\n    }\n\n    function on_error() {\n      console.error(\"failed to load \" + url);\n    }\n\n    for (var i = 0; i < css_urls.length; i++) {\n      var url = css_urls[i];\n      const element = document.createElement(\"link\");\n      element.onload = on_load;\n      element.onerror = on_error;\n      element.rel = \"stylesheet\";\n      element.type = \"text/css\";\n      element.href = url;\n      console.debug(\"Bokeh: injecting link tag for BokehJS stylesheet: \", url);\n      document.body.appendChild(element);\n    }\n\n    const hashes = {\"https://cdn.bokeh.org/bokeh/release/bokeh-2.0.1.min.js\": \"JpP8FXbgAZLkfur7LiK3j9AGBhHNIvF742meBJrjO2ShJDhCG2I1uVvW+0DUtrmc\", \"https://cdn.bokeh.org/bokeh/release/bokeh-widgets-2.0.1.min.js\": \"xZlADit0Q04ISQEdKg2k3L4W9AwQBAuDs9nJL9fM/WwzL1tEU9VPNezOFX0nLEAz\", \"https://cdn.bokeh.org/bokeh/release/bokeh-tables-2.0.1.min.js\": \"4BuPRZkdMKSnj3zoxiNrQ86XgNw0rYmBOxe7nshquXwwcauupgBF2DHLVG1WuZlV\", \"https://cdn.bokeh.org/bokeh/release/bokeh-gl-2.0.1.min.js\": \"Dv1SQ87hmDqK6S5OhBf0bCuwAEvL5QYL0PuR/F1SPVhCS/r/abjkbpKDYL2zeM19\"};\n\n    for (var i = 0; i < js_urls.length; i++) {\n      var url = js_urls[i];\n      var element = document.createElement('script');\n      element.onload = on_load;\n      element.onerror = on_error;\n      element.async = false;\n      element.src = url;\n      if (url in hashes) {\n        element.crossOrigin = \"anonymous\";\n        element.integrity = \"sha384-\" + hashes[url];\n      }\n      console.debug(\"Bokeh: injecting script tag for BokehJS library: \", url);\n      document.head.appendChild(element);\n    }\n  };var element = document.getElementById(\"3341\");\n  if (element == null) {\n    console.error(\"Bokeh: ERROR: autoload.js configured with elementid '3341' but no matching script tag was found. \")\n    return false;\n  }\n\n  function inject_raw_css(css) {\n    const element = document.createElement(\"style\");\n    element.appendChild(document.createTextNode(css));\n    document.body.appendChild(element);\n  }\n\n  \n  var js_urls = [\"https://cdn.bokeh.org/bokeh/release/bokeh-2.0.1.min.js\", \"https://cdn.bokeh.org/bokeh/release/bokeh-widgets-2.0.1.min.js\", \"https://cdn.bokeh.org/bokeh/release/bokeh-tables-2.0.1.min.js\", \"https://cdn.bokeh.org/bokeh/release/bokeh-gl-2.0.1.min.js\"];\n  var css_urls = [];\n  \n\n  var inline_js = [\n    function(Bokeh) {\n      Bokeh.set_log_level(\"info\");\n    },\n    function(Bokeh) {\n    \n    \n    }\n  ];\n\n  function run_inline_js() {\n    \n    if (root.Bokeh !== undefined || force === true) {\n      \n    for (var i = 0; i < inline_js.length; i++) {\n      inline_js[i].call(root, root.Bokeh);\n    }\n    if (force === true) {\n        display_loaded();\n      }} else if (Date.now() < root._bokeh_timeout) {\n      setTimeout(run_inline_js, 100);\n    } else if (!root._bokeh_failed_load) {\n      console.log(\"Bokeh: BokehJS failed to load within specified timeout.\");\n      root._bokeh_failed_load = true;\n    } else if (force !== true) {\n      var cell = $(document.getElementById(\"3341\")).parents('.cell').data().cell;\n      cell.output_area.append_execute_result(NB_LOAD_WARNING)\n    }\n\n  }\n\n  if (root._bokeh_is_loading === 0) {\n    console.debug(\"Bokeh: BokehJS loaded, going straight to plotting\");\n    run_inline_js();\n  } else {\n    load_libs(css_urls, js_urls, function() {\n      console.debug(\"Bokeh: BokehJS plotting callback run at\", now());\n      run_inline_js();\n    });\n  }\n}(window));",
      "application/vnd.bokehjs_load.v0+json": "\n(function(root) {\n  function now() {\n    return new Date();\n  }\n\n  var force = true;\n\n  if (typeof root._bokeh_onload_callbacks === \"undefined\" || force === true) {\n    root._bokeh_onload_callbacks = [];\n    root._bokeh_is_loading = undefined;\n  }\n\n  \n\n  \n  if (typeof (root._bokeh_timeout) === \"undefined\" || force === true) {\n    root._bokeh_timeout = Date.now() + 5000;\n    root._bokeh_failed_load = false;\n  }\n\n  var NB_LOAD_WARNING = {'data': {'text/html':\n     \"<div style='background-color: #fdd'>\\n\"+\n     \"<p>\\n\"+\n     \"BokehJS does not appear to have successfully loaded. If loading BokehJS from CDN, this \\n\"+\n     \"may be due to a slow or bad network connection. Possible fixes:\\n\"+\n     \"</p>\\n\"+\n     \"<ul>\\n\"+\n     \"<li>re-rerun `output_notebook()` to attempt to load from CDN again, or</li>\\n\"+\n     \"<li>use INLINE resources instead, as so:</li>\\n\"+\n     \"</ul>\\n\"+\n     \"<code>\\n\"+\n     \"from bokeh.resources import INLINE\\n\"+\n     \"output_notebook(resources=INLINE)\\n\"+\n     \"</code>\\n\"+\n     \"</div>\"}};\n\n  function display_loaded() {\n    var el = document.getElementById(\"3341\");\n    if (el != null) {\n      el.textContent = \"BokehJS is loading...\";\n    }\n    if (root.Bokeh !== undefined) {\n      if (el != null) {\n        el.textContent = \"BokehJS \" + root.Bokeh.version + \" successfully loaded.\";\n      }\n    } else if (Date.now() < root._bokeh_timeout) {\n      setTimeout(display_loaded, 100)\n    }\n  }\n\n\n  function run_callbacks() {\n    try {\n      root._bokeh_onload_callbacks.forEach(function(callback) {\n        if (callback != null)\n          callback();\n      });\n    } finally {\n      delete root._bokeh_onload_callbacks\n    }\n    console.debug(\"Bokeh: all callbacks have finished\");\n  }\n\n  function load_libs(css_urls, js_urls, callback) {\n    if (css_urls == null) css_urls = [];\n    if (js_urls == null) js_urls = [];\n\n    root._bokeh_onload_callbacks.push(callback);\n    if (root._bokeh_is_loading > 0) {\n      console.debug(\"Bokeh: BokehJS is being loaded, scheduling callback at\", now());\n      return null;\n    }\n    if (js_urls == null || js_urls.length === 0) {\n      run_callbacks();\n      return null;\n    }\n    console.debug(\"Bokeh: BokehJS not loaded, scheduling load and callback at\", now());\n    root._bokeh_is_loading = css_urls.length + js_urls.length;\n\n    function on_load() {\n      root._bokeh_is_loading--;\n      if (root._bokeh_is_loading === 0) {\n        console.debug(\"Bokeh: all BokehJS libraries/stylesheets loaded\");\n        run_callbacks()\n      }\n    }\n\n    function on_error() {\n      console.error(\"failed to load \" + url);\n    }\n\n    for (var i = 0; i < css_urls.length; i++) {\n      var url = css_urls[i];\n      const element = document.createElement(\"link\");\n      element.onload = on_load;\n      element.onerror = on_error;\n      element.rel = \"stylesheet\";\n      element.type = \"text/css\";\n      element.href = url;\n      console.debug(\"Bokeh: injecting link tag for BokehJS stylesheet: \", url);\n      document.body.appendChild(element);\n    }\n\n    const hashes = {\"https://cdn.bokeh.org/bokeh/release/bokeh-2.0.1.min.js\": \"JpP8FXbgAZLkfur7LiK3j9AGBhHNIvF742meBJrjO2ShJDhCG2I1uVvW+0DUtrmc\", \"https://cdn.bokeh.org/bokeh/release/bokeh-widgets-2.0.1.min.js\": \"xZlADit0Q04ISQEdKg2k3L4W9AwQBAuDs9nJL9fM/WwzL1tEU9VPNezOFX0nLEAz\", \"https://cdn.bokeh.org/bokeh/release/bokeh-tables-2.0.1.min.js\": \"4BuPRZkdMKSnj3zoxiNrQ86XgNw0rYmBOxe7nshquXwwcauupgBF2DHLVG1WuZlV\", \"https://cdn.bokeh.org/bokeh/release/bokeh-gl-2.0.1.min.js\": \"Dv1SQ87hmDqK6S5OhBf0bCuwAEvL5QYL0PuR/F1SPVhCS/r/abjkbpKDYL2zeM19\"};\n\n    for (var i = 0; i < js_urls.length; i++) {\n      var url = js_urls[i];\n      var element = document.createElement('script');\n      element.onload = on_load;\n      element.onerror = on_error;\n      element.async = false;\n      element.src = url;\n      if (url in hashes) {\n        element.crossOrigin = \"anonymous\";\n        element.integrity = \"sha384-\" + hashes[url];\n      }\n      console.debug(\"Bokeh: injecting script tag for BokehJS library: \", url);\n      document.head.appendChild(element);\n    }\n  };var element = document.getElementById(\"3341\");\n  if (element == null) {\n    console.error(\"Bokeh: ERROR: autoload.js configured with elementid '3341' but no matching script tag was found. \")\n    return false;\n  }\n\n  function inject_raw_css(css) {\n    const element = document.createElement(\"style\");\n    element.appendChild(document.createTextNode(css));\n    document.body.appendChild(element);\n  }\n\n  \n  var js_urls = [\"https://cdn.bokeh.org/bokeh/release/bokeh-2.0.1.min.js\", \"https://cdn.bokeh.org/bokeh/release/bokeh-widgets-2.0.1.min.js\", \"https://cdn.bokeh.org/bokeh/release/bokeh-tables-2.0.1.min.js\", \"https://cdn.bokeh.org/bokeh/release/bokeh-gl-2.0.1.min.js\"];\n  var css_urls = [];\n  \n\n  var inline_js = [\n    function(Bokeh) {\n      Bokeh.set_log_level(\"info\");\n    },\n    function(Bokeh) {\n    \n    \n    }\n  ];\n\n  function run_inline_js() {\n    \n    if (root.Bokeh !== undefined || force === true) {\n      \n    for (var i = 0; i < inline_js.length; i++) {\n      inline_js[i].call(root, root.Bokeh);\n    }\n    if (force === true) {\n        display_loaded();\n      }} else if (Date.now() < root._bokeh_timeout) {\n      setTimeout(run_inline_js, 100);\n    } else if (!root._bokeh_failed_load) {\n      console.log(\"Bokeh: BokehJS failed to load within specified timeout.\");\n      root._bokeh_failed_load = true;\n    } else if (force !== true) {\n      var cell = $(document.getElementById(\"3341\")).parents('.cell').data().cell;\n      cell.output_area.append_execute_result(NB_LOAD_WARNING)\n    }\n\n  }\n\n  if (root._bokeh_is_loading === 0) {\n    console.debug(\"Bokeh: BokehJS loaded, going straight to plotting\");\n    run_inline_js();\n  } else {\n    load_libs(css_urls, js_urls, function() {\n      console.debug(\"Bokeh: BokehJS plotting callback run at\", now());\n      run_inline_js();\n    });\n  }\n}(window));"
     },
     "metadata": {}
    },
    {
     "output_type": "stream",
     "name": "stderr",
     "text": "BokehDeprecationWarning: 'WidgetBox' is deprecated and will be removed in Bokeh 3.0, use 'bokeh.models.Column' instead\n"
    },
    {
     "output_type": "display_data",
     "data": {
      "text/html": "\n\n\n\n\n\n  <div class=\"bk-root\" id=\"8332fa95-1dba-443f-b967-095fbecd098a\" data-root-id=\"3385\"></div>\n"
     },
     "metadata": {}
    },
    {
     "output_type": "display_data",
     "data": {
      "application/javascript": "(function(root) {\n  function embed_document(root) {\n    \n  var docs_json = {\"0d590abd-67ee-466b-8e31-b69d487ec411\":{\"roots\":{\"references\":[{\"attributes\":{\"children\":[{\"id\":\"3384\"},{\"id\":\"3343\"}],\"width\":800},\"id\":\"3385\",\"type\":\"Row\"},{\"attributes\":{\"data_source\":{\"id\":\"3342\"},\"glyph\":{\"id\":\"3374\"},\"hover_glyph\":null,\"muted_glyph\":null,\"nonselection_glyph\":{\"id\":\"3375\"},\"selection_glyph\":null,\"view\":{\"id\":\"3377\"}},\"id\":\"3376\",\"type\":\"GlyphRenderer\"},{\"attributes\":{},\"id\":\"3350\",\"type\":\"LinearScale\"},{\"attributes\":{},\"id\":\"3464\",\"type\":\"BasicTickFormatter\"},{\"attributes\":{\"below\":[{\"id\":\"3354\"}],\"center\":[{\"id\":\"3357\"},{\"id\":\"3361\"}],\"left\":[{\"id\":\"3358\"}],\"plot_height\":400,\"plot_width\":400,\"renderers\":[{\"id\":\"3376\"}],\"title\":{\"id\":\"3344\"},\"toolbar\":{\"id\":\"3367\"},\"x_range\":{\"id\":\"3346\"},\"x_scale\":{\"id\":\"3350\"},\"y_range\":{\"id\":\"3348\"},\"y_scale\":{\"id\":\"3352\"}},\"id\":\"3343\",\"subtype\":\"Figure\",\"type\":\"Plot\"},{\"attributes\":{\"args\":{\"plot\":{\"id\":\"3343\"},\"text\":{\"id\":\"3378\"}},\"code\":\"\\n    plot.title.text = text.value\\n\"},\"id\":\"3381\",\"type\":\"CustomJS\"},{\"attributes\":{\"end\":50000,\"format\":\"0[.]00\",\"js_property_callbacks\":{\"change:value\":[{\"id\":\"3382\"}]},\"start\":6378,\"step\":10,\"title\":\"semi-major axis\",\"value\":42164},\"id\":\"3379\",\"type\":\"Slider\"},{\"attributes\":{\"axis\":{\"id\":\"3354\"},\"ticker\":null},\"id\":\"3357\",\"type\":\"Grid\"},{\"attributes\":{\"args\":{\"eccentricity\":{\"id\":\"3380\"},\"sma\":{\"id\":\"3379\"},\"source\":{\"id\":\"3342\"}},\"code\":\"\\n    console.log(\\\"coucou from callback\\\")\\n    const a = sma.value,\\n        e = eccentricity.value,\\n        N = 100,\\n        b = a * window.Math.sqrt(1 - e**2),\\n        x=source.data['x'],\\n        y=source.data['y']\\n    console.log(\\\"coucou after const\\\")\\n    for(let i=0; i < N; i++) {\\n        x[i] = a * window.Math.cos(i/(N-1) * 2 * window.Math.PI)\\n        console.log(x[i])\\n        y[i] = b * window.Math.sin(i/(N-1) * 2 * window.Math.PI)\\n        console.log(y[i])\\n    }\\n    console.log(\\\"coucou after loop\\\")\\n    source.change.emit()\\n\"},\"id\":\"3383\",\"type\":\"CustomJS\"},{\"attributes\":{\"line_alpha\":0.1,\"line_color\":\"#1f77b4\",\"line_width\":3,\"x\":{\"field\":\"x\"},\"y\":{\"field\":\"y\"}},\"id\":\"3375\",\"type\":\"Line\"},{\"attributes\":{},\"id\":\"3469\",\"type\":\"UnionRenderers\"},{\"attributes\":{\"args\":{\"eccentricity\":{\"id\":\"3380\"},\"sma\":{\"id\":\"3379\"},\"source\":{\"id\":\"3342\"}},\"code\":\"\\n    console.log(\\\"coucou from callback\\\")\\n    const a = sma.value,\\n        e = eccentricity.value,\\n        N = 100,\\n        b = a * window.Math.sqrt(1 - e**2),\\n        x=source.data['x'],\\n        y=source.data['y']\\n    console.log(\\\"coucou after const\\\")\\n    for(let i=0; i < N; i++) {\\n        x[i] = a * window.Math.cos(i/(N-1) * 2 * window.Math.PI)\\n        console.log(x[i])\\n        y[i] = b * window.Math.sin(i/(N-1) * 2 * window.Math.PI)\\n        console.log(y[i])\\n    }\\n    console.log(\\\"coucou after loop\\\")\\n    source.change.emit()\\n\"},\"id\":\"3382\",\"type\":\"CustomJS\"},{\"attributes\":{},\"id\":\"3366\",\"type\":\"WheelZoomTool\"},{\"attributes\":{},\"id\":\"3468\",\"type\":\"Selection\"},{\"attributes\":{\"end\":1,\"format\":\"0[.]00\",\"js_property_callbacks\":{\"change:value\":[{\"id\":\"3383\"}]},\"start\":0,\"step\":0.01,\"title\":\"eccentricity\",\"value\":0.7},\"id\":\"3380\",\"type\":\"Slider\"},{\"attributes\":{\"end\":50000,\"start\":-50000},\"id\":\"3346\",\"type\":\"Range1d\"},{\"attributes\":{},\"id\":\"3362\",\"type\":\"CrosshairTool\"},{\"attributes\":{},\"id\":\"3355\",\"type\":\"BasicTicker\"},{\"attributes\":{\"children\":[{\"id\":\"3378\"},{\"id\":\"3379\"},{\"id\":\"3380\"}]},\"id\":\"3384\",\"type\":\"WidgetBox\"},{\"attributes\":{\"text\":\"my orbit\"},\"id\":\"3344\",\"type\":\"Title\"},{\"attributes\":{},\"id\":\"3352\",\"type\":\"LinearScale\"},{\"attributes\":{\"end\":50000,\"start\":-50000},\"id\":\"3348\",\"type\":\"Range1d\"},{\"attributes\":{},\"id\":\"3363\",\"type\":\"PanTool\"},{\"attributes\":{},\"id\":\"3359\",\"type\":\"BasicTicker\"},{\"attributes\":{\"axis\":{\"id\":\"3358\"},\"dimension\":1,\"ticker\":null},\"id\":\"3361\",\"type\":\"Grid\"},{\"attributes\":{\"formatter\":{\"id\":\"3464\"},\"ticker\":{\"id\":\"3355\"}},\"id\":\"3354\",\"type\":\"LinearAxis\"},{\"attributes\":{},\"id\":\"3365\",\"type\":\"SaveTool\"},{\"attributes\":{},\"id\":\"3466\",\"type\":\"BasicTickFormatter\"},{\"attributes\":{\"formatter\":{\"id\":\"3466\"},\"ticker\":{\"id\":\"3359\"}},\"id\":\"3358\",\"type\":\"LinearAxis\"},{\"attributes\":{\"data\":{\"x\":{\"__ndarray__\":\"AAAAAICW5EB1RfqG44vkQFMBHAwZbORArHS3VEE35EBEUXbZku3jQLpDM45Zj+NANM6uk/Yc40B6KHDT35biQKJaOYaf/eFAMN2LpdNR4UBWntBILZTgQFKSlt3fit9AyfcpaOHM3UA6UdzuKvDbQK0nlNmn9tlAVGYQQGHi10AUAsHQe7XVQPdAL5s1ctNA9qc8wOMa0UC+GjUV4GPNQOOh6eOsc8hAwV/AFkVqw0Am7L+ms5m8QEw1nsFhQbJAQeGawPlYn0D30p+tx+eEwPIoWoj9GqrAtUVYFpBwt8BD2/fyu93AwEH2agrN8cXALYB1Lj/vysBCgneN7dDPwItkVPrnSNLAAwAAAICW1MBeJqAT387WwIZBfFG779jAQCk0EuP22sBpJ7ctP+LcwNOZ6iLVr97AfsXjkOQu4MDsher6L/XgwFfbgmcAquHAOrSQc5tM4sD/ZASBWdziwK1Go2OmWOPA1BPF+QHB48AVkWiwABXkwIVaF/JLVOTAJYcmgKJ+5MCFIfi12JPkwIUh+LXYk+TAJYcmgKJ+5MCFWhfyS1TkwBWRaLAAFeTA1BPF+QHB48CuRqNjpljjwP9kBIFZ3OLAO7SQc5tM4sBX24JnAKrhwOyF6vov9eDAfcXjkOQu4MDUmeoi1a/ewGgnty0/4tzAQyk0EuP22sCEQXxRu+/YwGAmoBPfztbA+////3+W1MCJZFT650jSwEKCd43t0M/AMoB1Lj/vysA49moKzfHFwD7b9/K73cDAtUVYFpBwt8AJKVqI/RqqwFzSn63H54TAZuGawPlYn0BBNZ7BYUGyQBHsv6azmbxAxl/AFkVqw0DjoenjrHPIQLkaNRXgY81A+qc8wOMa0UD5QC+bNXLTQBQCwdB7tdVAUmYQQGHi10CxJ5TZp/bZQDtR3O4q8NtAyPcpaOHM3UBPkpbd34rfQFee0EgtlOBAMN2LpdNR4UCiWjmGn/3hQHoocNPfluJANM6uk/Yc40C6QzOOWY/jQERRdtmS7eNArHS3VEE35EBTARwMGWzkQHVF+obji+RAAAAAAICW5EA=\",\"dtype\":\"float64\",\"shape\":[100]},\"y\":{\"__ndarray__\":\"AAAAAAAAAABF16iLD9edQFzofEqux61A1n20E5FCtkBQsHPNWIq9QMjOcozWWcJArmATEJbbxUCr642GzUbJQLLYqb72l8xAU28DY6bLz0DY8y3AR2/RQKfNS3bD5tJAET90RcNK1EDWd+M02JnVQJYpwduo0tZAW8YuxfLz10Dlqay8i/zYQO2JfwFj69lAZU7ZX4K/2kB/fqMuD3jbQHWl5TBLFNxASFbfWZWT3EAgqQtzavXcQNsQY6NlOd1AxhtQ10Bf3UCF9usI1WbdQJw6OGgaUN1Af5EsYygb3UDg3o+NNcjcQLfXtWiXV9xARwRbC8LJ20CfCPqpRx/bQHeOFQDYWNpAtCsSmz932UADAVsHZ3vYQJNrquBRZtdA0uRtxh051kCi61g1AfXUQHx3VkdKm9NAKOEiW10t0kDIRPGks6zQQFcULlOzNc5APMicS9vyykAFOmrGO5THQPW2f/lNHcRAby7WKKSRwECFtgjwy+m5QKZTiUuZlbJAREBU1XxcpkDuAFya6NqNQCMBXJro2o3AUUBU1XxcpsCsU4lLmZWywH22CPDL6bnAci7WKKSRwMDxtn/5TR3EwAg6asY7lMfAOMicS9vyysBYFC5TszXOwMZE8aSzrNDAKeEiW10t0sB7d1ZHSpvTwKTrWDUB9dTA0eRtxh051sCUa6rgUWbXwAIBWwdne9jAtSsSmz932cB4jhUA2FjawJ8I+qlHH9vARgRbC8LJ28C417Vol1fcwODej401yNzAf5EsYygb3cCbOjhoGlDdwIX26wjVZt3AxhtQ10Bf3cDbEGOjZTndwCGpC3Nq9dzASFbfWZWT3MB1peUwSxTcwIB+oy4PeNvAZE7ZX4K/2sDsiX8BY+vZwOWprLyL/NjAXMYuxfLz18CUKcHbqNLWwNR34zTYmdXAET90RcNK1MCqzUt2w+bSwNbzLcBHb9HAUW8DY6bLz8C02Km+9pfMwK/rjYbNRsnAqGATEJbbxcDHznKM1lnCwFawc81Yir3Ax320E5FCtsBN6HxKrsetwEfXqIsP153Awpfjf883oL0=\",\"dtype\":\"float64\",\"shape\":[100]}},\"selected\":{\"id\":\"3468\"},\"selection_policy\":{\"id\":\"3469\"}},\"id\":\"3342\",\"type\":\"ColumnDataSource\"},{\"attributes\":{\"js_property_callbacks\":{\"change:value\":[{\"id\":\"3381\"}]},\"title\":\"title\",\"value\":\"my orbit\"},\"id\":\"3378\",\"type\":\"TextInput\"},{\"attributes\":{\"source\":{\"id\":\"3342\"}},\"id\":\"3377\",\"type\":\"CDSView\"},{\"attributes\":{\"line_alpha\":0.6,\"line_color\":\"#1f77b4\",\"line_width\":3,\"x\":{\"field\":\"x\"},\"y\":{\"field\":\"y\"}},\"id\":\"3374\",\"type\":\"Line\"},{\"attributes\":{\"active_drag\":\"auto\",\"active_inspect\":\"auto\",\"active_multi\":null,\"active_scroll\":\"auto\",\"active_tap\":\"auto\",\"tools\":[{\"id\":\"3362\"},{\"id\":\"3363\"},{\"id\":\"3364\"},{\"id\":\"3365\"},{\"id\":\"3366\"}]},\"id\":\"3367\",\"type\":\"Toolbar\"},{\"attributes\":{},\"id\":\"3364\",\"type\":\"ResetTool\"}],\"root_ids\":[\"3385\"]},\"title\":\"Bokeh Application\",\"version\":\"2.0.1\"}};\n  var render_items = [{\"docid\":\"0d590abd-67ee-466b-8e31-b69d487ec411\",\"root_ids\":[\"3385\"],\"roots\":{\"3385\":\"8332fa95-1dba-443f-b967-095fbecd098a\"}}];\n  root.Bokeh.embed.embed_items_notebook(docs_json, render_items);\n\n  }\n  if (root.Bokeh !== undefined) {\n    embed_document(root);\n  } else {\n    var attempts = 0;\n    var timer = setInterval(function(root) {\n      if (root.Bokeh !== undefined) {\n        clearInterval(timer);\n        embed_document(root);\n      } else {\n        attempts++;\n        if (attempts > 100) {\n          clearInterval(timer);\n          console.log(\"Bokeh: ERROR: Unable to run BokehJS code because BokehJS library is missing\");\n        }\n      }\n    }, 10, root)\n  }\n})(window);",
      "application/vnd.bokehjs_exec.v0+json": ""
     },
     "metadata": {
      "application/vnd.bokehjs_exec.v0+json": {
       "id": "3385"
      }
     }
    }
   ],
   "source": [
    "\n",
    "''' Rewrite the basic sliders example as a standalone document with JavaScript callbacks.\n",
    "Present an interactive function explorer with slider widgets.\n",
    "Scrub the sliders to change the properties of the ``sin`` curve, or\n",
    "type into the title text box to update the title of the plot.\n",
    "Run example with python sliders-standalone-code.py\n",
    "In this version, the callbacks are written as strings of JS code.\n",
    "'''\n",
    "import numpy as np\n",
    "\n",
    "from bokeh.layouts import row, widgetbox\n",
    "from bokeh.models import ColumnDataSource\n",
    "from bokeh.models.callbacks import CustomJS\n",
    "from bokeh.models.widgets import Slider, TextInput\n",
    "from bokeh.plotting import figure, output_notebook, output_file, show\n",
    "\n",
    "output_notebook()\n",
    "output_file(\"sliders-standalone.html\")\n",
    "# Set up data\n",
    "N = 100\n",
    "t = np.linspace(0, 2*np.pi, N)\n",
    "a = 42164 # km\n",
    "e = 0.7\n",
    "b = a * np.sqrt(1 - e**2)\n",
    "x = a * np.cos(t)\n",
    "y = b * np.sin(t)\n",
    "source = ColumnDataSource(data=dict(x=x, y=y))\n",
    "\n",
    "\n",
    "# Set up plot\n",
    "plot = figure(plot_height=400, plot_width=400, title=\"my orbit\",\n",
    "              tools=\"crosshair,pan,reset,save,wheel_zoom\",\n",
    "              x_range=[-50000, 50000], y_range=[-50000, 50000])\n",
    "\n",
    "plot.line('x', 'y', source=source, line_width=3, line_alpha=0.6)\n",
    "\n",
    "\n",
    "# Set up widgets\n",
    "text = TextInput(title=\"title\", value='my orbit')\n",
    "sma = Slider(title=\"semi-major axis\", value=a, start=6378, end=50000, step=10)\n",
    "eccentricity = Slider(title=\"eccentricity\", value=e, start=0, end=1, step=0.01)\n",
    "\n",
    "# Set up callbacks\n",
    "text_callback_code =\"\"\"\n",
    "    plot.title.text = text.value\n",
    "\"\"\"\n",
    "\n",
    "text.js_on_change('value', CustomJS(args=dict(text=text,plot=plot), code=text_callback_code))\n",
    "\n",
    "sliders_callback_code=\"\"\"\n",
    "    console.log(\"coucou from callback\")\n",
    "    const a = sma.value,\n",
    "        e = eccentricity.value,\n",
    "        N = 100,\n",
    "        b = a * window.Math.sqrt(1 - e**2),\n",
    "        x=source.data['x'],\n",
    "        y=source.data['y']\n",
    "    console.log(\"coucou after const\")\n",
    "    for(let i=0; i < N; i++) {\n",
    "        x[i] = a * window.Math.cos(i/(N-1) * 2 * window.Math.PI)\n",
    "        console.log(x[i])\n",
    "        y[i] = b * window.Math.sin(i/(N-1) * 2 * window.Math.PI)\n",
    "        console.log(y[i])\n",
    "    }\n",
    "    console.log(\"coucou after loop\")\n",
    "    source.change.emit()\n",
    "\"\"\"\n",
    "\n",
    "slider_args = dict(source=source, sma=sma, eccentricity=eccentricity)\n",
    "\n",
    "for w in [sma, eccentricity]:\n",
    "    w.js_on_change('value', CustomJS(args=slider_args, code=sliders_callback_code))\n",
    "\n",
    "\n",
    "# Set up layouts and add to document\n",
    "inputs = widgetbox(text, sma, eccentricity)\n",
    "\n",
    "show(row(inputs, plot, width=800))"
   ]
  },
  {
   "cell_type": "code",
   "execution_count": null,
   "metadata": {},
   "outputs": [],
   "source": []
  }
 ],
 "metadata": {
  "language_info": {
   "codemirror_mode": {
    "name": "ipython",
    "version": 3
   },
   "file_extension": ".py",
   "mimetype": "text/x-python",
   "name": "python",
   "nbconvert_exporter": "python",
   "pygments_lexer": "ipython3",
   "version": "3.6.10-final"
  },
  "orig_nbformat": 2,
  "kernelspec": {
   "name": "python3",
   "display_name": "Python 3"
  }
 },
 "nbformat": 4,
 "nbformat_minor": 2
}